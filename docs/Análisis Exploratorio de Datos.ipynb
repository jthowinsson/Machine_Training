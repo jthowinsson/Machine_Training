{
 "cells": [
  {
   "cell_type": "markdown",
   "metadata": {},
   "source": [
    "# Ejercicio 1\n",
    "\n",
    "### Análisis Exploratorio de Datos 20%"
   ]
  },
  {
   "cell_type": "markdown",
   "metadata": {},
   "source": [
    "(I) Considere la serie de tiempo asociada con las acciones de Bitcoin (ver [<span style=\"color:#FF6F61\">Bitcoin data</span>](https://github.com/lihkir/Data/blob/main/btc_15m_data_2018_to_2025.csv) importe directamente con el link y pd.read_csv). Realice un [<span style=\"color:#FF6F61\">Análisis Exploratorio de datos (EDA)</span>](https://lihkir.github.io/TimeSeries/statistical_background.html#analisis-exploratorio-de-datos-eda) considerando cada una de las metodología abordadas durante el curso. _Es crucial que en todos los ejercicios de la presente evaluación, cada figura descriptiva, tabla o resumen de resultados, cuente con su respectiva interpretación_"
   ]
  },
  {
   "cell_type": "markdown",
   "metadata": {},
   "source": [
    "- Utilice el conjunto de datos asociados con el precio de Bitcoin, ver **[Bitcoin data](https://raw.githubusercontent.com/lihkir/Data/refs/heads/main/Bitcoin%20Historical%20Data.csv)**. Considere para las predicciones con modelos de series de tiempo, la columna **Price**.\n",
    "\n",
    "- Identifique si existen datos faltantes y realice su <span style=\"color:#FF69B4\">imputación</span> usando alguna de las técnicas básicas estudiadas durante el curso.\n",
    "\n",
    "- Realice un <span style=\"color:#FF69B4\">grafico de velas</span> utilizando la librería **Plotly** para la serie de tiempo (columna **Price**).  \n",
    "  Realice también un histograma con **Plotly** para representar el volumen tradeado diariamente (**<span style=\"color:#4169E1\">Volume</span>**).\n",
    "\n",
    "- Realice <span style=\"color:#FF69B4\">graficos de subseries</span> considerando agrupación por _semana, mes y año_.  \n",
    "  Utilice gráficos de _series de tiempo_ y _boxplots_ para analizar estas subseries.\n",
    "\n",
    "- Estudie estacionariedad de la serie de tiempo usando la **ACF** estudiada durante el curso,  \n",
    "  así como también los respectivos test estadísticos tales como **<span style=\"color:#FF69B4\">Ljung-Box</span>** y **<span style=\"color:#FF69B4\">Dickey Fuller</span>**.  \n",
    "  Aplique además las transformaciones necesarias para convertir la serie de tiempo en estacionaria.\n",
    "\n",
    "- Mediante <span style=\"color:#FF69B4\">agregación por grupos</span> analice el comportamiento de la media y desviación estándar,  \n",
    "  agrupando por _semanas, días, meses_. Además, para estas agrupaciones, calcule <span style=\"color:#FF69B4\">estadísticos móviles</span>.  \n",
    "  Dibuje la distribución de frecuencias para diferentes _lags_ como se realizó en las notas del curso.\n",
    "\n",
    "- Aplique las medias moviles \n",
    "$$\n",
    "\\widehat{M}_t^{(2)}, \\quad \\overline{\\widehat{M}_t^{(2)}}^{(t,t+1)}, \\quad \n",
    "\\widehat{M}_t^{(4)}, \\quad \\overline{\\widehat{M}_t^{(4)}}^{(t,t+1)}, \\quad \n",
    "\\widehat{M}_t^{(3)} \\quad \\text{y} \\quad \\overline{\\widehat{M}_t^{(3)}}^{(t-1,t+1)}\n",
    "$$\n",
    "\n",
    "\n",
    "\n",
    "\n",
    "a las serie del precio de cierre de BTC-USD. Posteriormente, uselas para remover tendencia y aplique la prueba de Dickey Fuller y LJung Box para verificar si se logró estacionariedad\n",
    "\n",
    "- Realice descomposición de la serie temporal del precio de cierre de **BTC-USD** usando <span style=\"color:#FF69B4\">medias móviles</span>        y además usando la librería **statsmodels.tsa**. Verifique al final independencia de los residuos mediante la prueba de **Ljung Box**.\n"
   ]
  },
  {
   "cell_type": "markdown",
   "metadata": {},
   "source": [
    "(II) Repita el análisis anterior para las series de tiempo de: retorno acumulado diario y volatilidad, para diferentes ventanas. Para esto tenga en cuenta las siguientes definiciones e implemente manualmente las funciones que definen cada serie de tiempo"
   ]
  },
  {
   "cell_type": "markdown",
   "metadata": {},
   "source": [
    "- Retorno aculumado diario ${A_t}{t=1}^T$ donde\n",
    "\n",
    "$$\n",
    "A_t = \\sum_{j=1}^{t} R_j, \\quad \\text{con} \\quad R_t = \\frac{P_t - P_{t-1}}{P_{t-1}}, \\tag{1}\n",
    "$$\n",
    "\n",
    "donde $P_{t,t=1,2,...,.T}$ es la columna **Price** en el dataset de **Bitcoin** y *T* es el tiempo final.\n",
    "\n",
    "- La volatilidad $\\left\\{ \\sigma_t \\right\\}^{T}_{t=1}$ es la desviación estándar de los retornos diarios\n",
    "\n",
    "$$\n",
    "\\sigma = \\operatorname{std}(R_1, R_2, \\ldots, R_{\\omega}), \\quad \\text{donde} \\quad \\omega \\in \\{7, 14, 21, 28\\}, \\tag{2}\n",
    "$$\n",
    "\n",
    "\n",
    "siendo $\\omega$ el número de retornos diarios considerados para calcular la desviación estándar\n",
    "\n",
    "$$\n",
    "\\operatorname{std}(R_1, R_2, \\ldots, R_\\omega) = \\sqrt{\\frac{1}{\\omega - 1} \\sum_{t=1}^{\\omega} (R_t - \\mu)^2}, \\quad\n",
    "\\mu = \\frac{1}{\\omega} \\sum_{t=1}^{\\omega} R_t, \\tag{3}\n",
    "$$\n",
    "\n",
    "\n",
    "obtenida por ventanas móviles de longitud $\\omega$, donde $\\omega$ está dado en días, y esta desviación es calculada sobre la serie de retornos diarios. Para cada ventata $\\omega$ repita el ítem (I)."
   ]
  }
 ],
 "metadata": {
  "kernelspec": {
   "display_name": "ml_venv",
   "language": "python",
   "name": "python3"
  },
  "language_info": {
   "name": "python",
   "version": "3.9.7"
  }
 },
 "nbformat": 4,
 "nbformat_minor": 2
}
