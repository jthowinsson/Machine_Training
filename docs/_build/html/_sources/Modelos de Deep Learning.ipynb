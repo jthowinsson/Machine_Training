{
 "cells": [
  {
   "cell_type": "markdown",
   "metadata": {},
   "source": [
    "# Ejercicio 3\n",
    "\n",
    "### Modelos de Deep Learning 60%"
   ]
  },
  {
   "cell_type": "markdown",
   "metadata": {},
   "source": [
    "*Contexto del problema*: Para realizar predicción de series de tiempo, en la validación cruzada es crucial considerar el orden natural del tiempo. Por ejemplo, la idea es predecir 7 días futuros, con 31 datos historicos de un mes, no lo contrario. No requerimos predecir el pasado, porque ya lo conocemos. Con base en esto, es necesario construir manualmente una validación cruzada, que no realice ninguna desorganización no natural, de los pliegues de entrenamiento, validación y prueba, la cual esté en contra del orden temporal.\n",
    "\n",
    "En cada uno de los siguientes ejercicios considere los siguientes pasos para construir sus modelos predictivos. Debe realizar este procedimiento para las series: precio, retorno acumulado y volatilidad para las diferentes ventanas ($\\omega = 7, 14, 21, 28$):"
   ]
  },
  {
   "cell_type": "markdown",
   "metadata": {},
   "source": [
    "1. Defina funciones en Python para dividir el conjunto de datos en entrenamiento, validación y test con base en la Figuras 2-4. Observe que en las tres figuras, aparecen ejemplos para $\\tau = 1, 2, 3$, debe extenderlo hasta los diferentes horizontes: $\\tau = 7, 14, 21, 28$. Al final debe unir las predicciones de cada punto para obtener el horizonte predicho completo de $\\tau$ días, luego debe compararlo con el resultado usando como output el y multivariado de $\\tau$ días, tal como se muestra en la Figura 5.\n",
    "\n",
    "2. Nótese que TimeSeriesSplit no es una librería que funcione aquí, debido a que los pliegues que entrega no coinciden con los de las Figuras 2-4 que son los solicitados en este examen, por favor, no intente usarla, implemente sus propios pliegues. Al final de la construcción de la función que entrega dichas divisiones, debe visualizarlas dentro de su JBook usando las funciones de Python adecuadas para esto. El objetivo es verificar y confirmar que ha contruido adecuadamente los pliegues de entrenamiento, validación y prueba y coinciden sus figuras con las Figuras 2-5.\n",
    "\n",
    "3. Para cada conjunto de parámetros, ajuste cada modelo predictivo en el conjunto de entrenamiento, y dentro de sus iteraciones de busqueda, evalue su modelo en el conjunto de validación usando las siguientes métricas: MAPE, MAE, RMSE. MSE y el R cuadrado.\n",
    "\n",
    "4. Realice una tabla donde resuma para el residual (residuo en el conjunto de entrenamiento) scores obtenidos y agregue además las respectivas pruebas de hipóteis para independencia y normalidad. Para esto, usando Pandas construya una tabla con las siguientes columnas: MAPE, MAE, RMSE, MSE, $R^2$, LJung-Box test (p-value), Brock-Dechert-Scheinkman test (p-value), Jarque-Bera (p-value) y agregue las figuras para Serie de residuos, QQPlot, ACF de residuos.\n",
    "\n",
    "5. Realice una tabla donde resuma los scores obtenidos por cada modelo en el conjunto de test (error de predicción) y agregue además prueba de hipóteis para independencia. Para esto, usando Pandas construya una tabla con las siguientes columnas: MAPE, MAE, RMSE, MSE, $R^2$, LJung-Box test (p-value), Brock-Dechert-Scheinkman test (p-value).\n",
    "\n",
    "6. Considere conjuntos de validación y test de longitud $\\tau = 7, 14, 21, 28$ días. Para el conjunto de entrenamiento considere todos los casos asociados con las combinaciones $dim(X_{train}^{(j)}) = (M_{rows}^{(j)}, N_{cols}^{(j)})$ con $M_{rows}^{(j)}, N_{cols}^{(j)} = 7, 14, 21, 28$.\n",
    "\n",
    "7. Realice las siguientes variaciones durante la construcción de su modelo y seleccione la que entrega el menor error posible: Dropout: 0.2, 0.4, 0.6, 0.8; One layer and: (10,), (100,) (1000,) (10000,) Neurons; Batchsize: 16, 32, 64, 128. Advertencia; Debe utilizar la librería Tensorflow-Keras utilizada durante el curso de series de tiempo.\n",
    "\n",
    "8. Para cada modelo obtenido dibuje la curva Runs vs Error/Score de entrenamiento historico del modelo. En el eje y represente el Error/Score para los conjuntos de entrenamiento, validación y test y en el eje x runs representa las iteraciones realizadas sobre cada j-ésimo pliegue de entrenamiento, validación y prueba.\n",
    "\n",
    "9. Dibuje tres boxplots (uno para cada set: train/validation/test) donde represente los errores obtenidos en el ítem anterior en el eje y. Verifique que las medianas de los tres boxplots son cercanas.\n",
    "\n",
    "10. Dibuje para cada combinación la serie de tiempo original, el conjunto de validación, el conjunto de test y la predicción del conjunto de test. Tenga en cuenta cada uno de los horizontes $\\tau = 7, 14, 21, 28$\n",
    "\n",
    "Los modelos que debe considerar para este ejercicio son los siguientes:\n",
    "\n",
    "- MLP (Multilayer Perceptrón)\n",
    "- RNN (Must investigate)\n",
    "- LSTM (Long short-term memory)"
   ]
  }
 ],
 "metadata": {
  "language_info": {
   "name": "python"
  }
 },
 "nbformat": 4,
 "nbformat_minor": 2
}
