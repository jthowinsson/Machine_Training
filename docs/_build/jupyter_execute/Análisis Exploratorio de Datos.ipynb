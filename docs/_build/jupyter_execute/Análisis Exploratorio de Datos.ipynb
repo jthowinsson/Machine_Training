{
 "cells": [
  {
   "cell_type": "markdown",
   "metadata": {},
   "source": [
    "# Ejercicio 1\n",
    "\n",
    "## Análisis Exploratoriio de Datos 20%"
   ]
  },
  {
   "cell_type": "markdown",
   "metadata": {},
   "source": [
    "1. Considere la serie de tiempo asociada con las acciones de Bitcoin (ver **([Bitcoin data](https://github.com/lihkir/Data/blob/main/btc_15m_data_2018_to_2025.csv))** importe directamente con el link y pd.read_csv). Realice un **[Análisis Exploratorio de Datos (EDA)](https://lihkir.github.io/TimeSeries/statistical_background.html#analisis-exploratorio-de-datos-eda)** considerando cada una de las metodología abordadas durante el curso. Es crucial que en todos los ejercicios de la presente evaluación, cada figura descriptiva, tabla o resumen de resultados, cuente con su respectiva interpretación"
   ]
  },
  {
   "cell_type": "markdown",
   "metadata": {},
   "source": [
    "- Utilice el conjunto de datos asociados con el precio de Bitcoin, ver **([Bitcoin data](https://raw.githubusercontent.com/lihkir/Data/refs/heads/main/Bitcoin%20Historical%20Data.csv))**. Considere para las predicciones con modelos de series de tiempo, la columna Price\n",
    "\n",
    "- Identifique si existen datos faltantes y realice su imputación usando alguna de las técnicas básicas estudiadas durante el curso.\n",
    "\n",
    "- Realice un grafico de velas utilizando la librería Plotly para la serie de tiempo (columna Price). Realice también un histograma con Plotly para representar el volumen tradeado diariamente (Volume)\n",
    "\n",
    "- Realice graficos de subseries considerando agrupación por semana, mes y año. Utilice graficos de series de tiempo y boxplots para analizar estas subseries.\n",
    "\n",
    "- Estudie estacionariedad de la serie de tiempo usando la ACF estudiada durante el curso, así como también los respectivos test estadísticos tales como Ljung-Box y Dickey Fuller. Aplique además las transformaciones necesarias para convertir la serie de tiempo en estacionaria.\n",
    "\n",
    "- Mediante agregación por grupos analice el comportamiento de la media y desviación estándar, agrupando por semanas, días, meses. Además, para estas agrupaciones, calcule estadísticos móviles. Dibuje la distribución de frecuencias para diferentes lags como se realizó en las notas del curso.\n",
    "\n",
    "- Aplique las medias moviles $\\widehat{M}_t^{(2)}$, $\\widehat{M}_t^{(2)(t,t+1)}$, $\\widehat{M}_t^{(4)}$, $\\widehat{M}_t^{(4)(t,t+1)}$, $\\widehat{M}_t^{(3)}$ y $\\widehat{M}_t^{(3)(t-1,t+1)}$ a las serie del precio de cierre de BTC-USD. Posteriormente, uselas para remover tendencia y aplique la prueba de Dickey Fuller y LJung Box para verificar si se logró estacionariedad\n",
    "\n",
    "- Realice descomposición de la serie temporal del precio de cierre de BTC-USD usando medias moviles y además usando la librería statsmodels.tsa. Verifique al final independencia de los residuos mediante la prueba de LJung Box.\n",
    "\n"
   ]
  },
  {
   "cell_type": "markdown",
   "metadata": {},
   "source": [
    "2. Repita el análisis anterior para las series de tiempo de: retorno acumulado diario y volatilidad, para diferentes ventanas. Para esto tenga en cuenta las siguientes definiciones e implemente manualmente las funciones que definen cada serie de tiempo"
   ]
  },
  {
   "cell_type": "markdown",
   "metadata": {},
   "source": [
    "- Retorno aculumado diario ${A_t}{t=1}^T$ donde\n",
    "$A_t = \\sum{j=1}^t R_j$, con $R_t = \\frac{P_t - P_{t-1}}{P_{t-1}}$, (1)\n",
    "donde $P_{t,t=1,2,...,.T}$ es la columna Price en el dataset de Bitcoin y T es el tiempo final.\n",
    "\n",
    "- La volatilidad ${\\sigma_t}{t=1}^T$ es la desviación estándar de los retornos diarios\n",
    "$\\sigma = std(R_1, R_2, \\ldots, R\\omega)$ donde $\\omega = 7, 14, 21, 28$, (2)\n",
    "siendo $\\omega$ el número de retornos diarios considerados para calcular la desviación estándar\n",
    "$std(R_1, R_2, \\ldots, R_\\omega) = \\sqrt{\\frac{1}{\\omega - 1}\\sum_{t=1}^\\omega (R_t - \\mu)}$, $\\mu = \\frac{1}{\\omega}\\sum_{t=1}^\\omega R_t$, (3)\n",
    "obtenida por ventanas móviles de longitud $\\omega$, donde $\\omega$ está dado en días, y esta desviación es calculada sobre la serie de retornos diarios. Para cada ventata $\\omega$ repita el ítem (I)."
   ]
  }
 ],
 "metadata": {
  "kernelspec": {
   "display_name": "ml_venv",
   "language": "python",
   "name": "python3"
  },
  "language_info": {
   "codemirror_mode": {
    "name": "ipython",
    "version": 3
   },
   "file_extension": ".py",
   "mimetype": "text/x-python",
   "name": "python",
   "nbconvert_exporter": "python",
   "pygments_lexer": "ipython3",
   "version": "3.9.7"
  }
 },
 "nbformat": 4,
 "nbformat_minor": 2
}