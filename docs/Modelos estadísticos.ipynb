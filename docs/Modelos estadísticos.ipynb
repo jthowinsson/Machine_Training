{
 "cells": [
  {
   "cell_type": "markdown",
   "metadata": {},
   "source": [
    "# Ejercicio 2 \n",
    "\n",
    "### Modelos Estadísticos 20%"
   ]
  },
  {
   "cell_type": "markdown",
   "metadata": {},
   "source": [
    "En cada uno de los siguientes ejercicios considere los siguientes pasos para construir sus modelos predictivos. Debe realizar este procedimiento para las series: precio, retorno acumulado y volatilidad para las diferentes ventanas ($\\omega = 7, 14, 21, 28$):\n",
    "\n",
    "- Divida el conjunto de datos en entrenamiento, validación y test\n",
    "\n",
    "- Para cada conjunto de parámetros, ajuste cada modelo predictivo en el conjunto de entrenamiento, y dentro de sus iteraciones de busqueda evalue su modelo en el conjunto de validación usando las siguientes métricas: MAPE, MAE, RMSE, MSE y el R cuadrado\n",
    "\n",
    "- Realice una tabla donde resuma para el residual (residuo en el conjunto de entrenamiento) los scores obtenidos y agregue además las respectivas pruebas de hipóteis para independencia y normalidad. Para esto, usando Pandas construya una tabla con las siguientes columnas: MAPE, MAE, RMSE, MSE, $R^2$, LJung-Box test (p-value), Brock-Dechert-Scheinkman test (p-value), Jarque-Bera (p-value) y agregue además las figuras para: Serie de residuos, QQPlot, ACF de residuos.\n",
    "\n",
    "- Realice una tabla donde resuma los scores obtenidos por cada modelo en el conjunto de test (error de predicción) y agregue además prueba de hipóteis para independencia. Para esto, usando Pandas construya una tabla con las siguientes columnas: MAPE, MAE, RMSE, MSE, $R^2$, LJung-Box test (p-value), Brock-Dechert-Scheinkman test (p-value)\n",
    "\n",
    "- Considere conjuntos de validación y test de longitud $\\tau = 7_{val,test}, 14_{val,test}, 21_{val,test}, 28_{val,test}$ días, el conjunto de entrenamiento corresponde a las primeras $N_yt - (28_{val} + 28_{test})$ observaciones (ver Figura 1) utilicelas como conjunto de entrenamiento\n",
    "\n",
    "Los modelos que debe considerar para este ejercicio son los siguientes:\n",
    "\n",
    "- Simple Exponential Smoothing (Sin Librería)\n",
    "- Simple Exponential Smoothing (Usando statsmodels.tsa.holtwinters)\n",
    "- Double Exponential Smoothing (Sin Librería)\n",
    "- Double Exponential Smoothing (Usando statsmodels.tsa.holtwinters)\n",
    "- ARIMA (Usando Rolling)\n",
    "- ARIMA (Sin Rolling)\n",
    "- GARCH (Usando Rolling) Must investigate\n",
    "- GARCH (Sin Rolling) Must investigate"
   ]
  }
 ],
 "metadata": {
  "language_info": {
   "name": "python"
  }
 },
 "nbformat": 4,
 "nbformat_minor": 2
}
